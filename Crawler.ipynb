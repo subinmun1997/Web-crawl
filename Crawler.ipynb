{
  "nbformat": 4,
  "nbformat_minor": 0,
  "metadata": {
    "colab": {
      "name": "Crawler.ipynb",
      "provenance": [],
      "authorship_tag": "ABX9TyN71SHMTmiyMAKmKTux58go",
      "include_colab_link": true
    },
    "kernelspec": {
      "name": "python3",
      "display_name": "Python 3"
    }
  },
  "cells": [
    {
      "cell_type": "markdown",
      "metadata": {
        "id": "view-in-github",
        "colab_type": "text"
      },
      "source": [
        "<a href=\"https://colab.research.google.com/github/subinmun1997/Web-crawl/blob/main/Crawler.ipynb\" target=\"_parent\"><img src=\"https://colab.research.google.com/assets/colab-badge.svg\" alt=\"Open In Colab\"/></a>"
      ]
    },
    {
      "cell_type": "code",
      "metadata": {
        "colab": {
          "base_uri": "https://localhost:8080/"
        },
        "id": "lTazNCY8SvYD",
        "outputId": "549b8d3a-3f8d-48ed-86f8-a3f1c04e468f"
      },
      "source": [
        "import requests\r\n",
        "from bs4 import BeautifulSoup\r\n",
        "\r\n",
        "# 특정 URL에 접속하는 요청(Request) 객체를 생성합니다.\r\n",
        "request = requests.get(\"http://dowellcomputer.com/main.jsp\")\r\n",
        "\r\n",
        "# 접속한 이후의 웹 사이트 소스코드를 추출합니다.\r\n",
        "html = request.text\r\n",
        "\r\n",
        "# HTML 소스코드를 파이썬 객체로 변환합니다.\r\n",
        "soup = BeautifulSoup(html, \"html.parser\")\r\n",
        "\r\n",
        "# <a> 태그를 포함하는 요소를 추출합니다.\r\n",
        "links = soup.select(\"td > a\")\r\n",
        "\r\n",
        "# 모든 링크에 하나씩 접근합니다.\r\n",
        "for link in links:\r\n",
        "    # 링크가 href 속성을 가지고 있다면\r\n",
        "    if link.has_attr(\"href\"):\r\n",
        "        # href 속성을 값으로 notice라는 문자열이 포함되어 있다면\r\n",
        "        if link.get(\"href\").find(\"notice\") != -1:\r\n",
        "            print(link.text)\r\n"
      ],
      "execution_count": 1,
      "outputs": [
        {
          "output_type": "stream",
          "text": [
            "자바 기초 프로그래밍 강좌를 완강했습니다.\n",
            "컴잘알에 오신 것을 환영합니다.\n"
          ],
          "name": "stdout"
        }
      ]
    }
  ]
}