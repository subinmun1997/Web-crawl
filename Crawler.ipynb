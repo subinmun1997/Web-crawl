{
  "nbformat": 4,
  "nbformat_minor": 0,
  "metadata": {
    "colab": {
      "name": "Crawler.ipynb",
      "provenance": [],
      "authorship_tag": "ABX9TyNakpY0kHoKFGQ4RT+2ufzf",
      "include_colab_link": true
    },
    "kernelspec": {
      "name": "python3",
      "display_name": "Python 3"
    }
  },
  "cells": [
    {
      "cell_type": "markdown",
      "metadata": {
        "id": "view-in-github",
        "colab_type": "text"
      },
      "source": [
        "<a href=\"https://colab.research.google.com/github/subinmun1997/Web-crawl/blob/main/Crawler.ipynb\" target=\"_parent\"><img src=\"https://colab.research.google.com/assets/colab-badge.svg\" alt=\"Open In Colab\"/></a>"
      ]
    },
    {
      "cell_type": "code",
      "metadata": {
        "colab": {
          "base_uri": "https://localhost:8080/"
        },
        "id": "lTazNCY8SvYD",
        "outputId": "549b8d3a-3f8d-48ed-86f8-a3f1c04e468f"
      },
      "source": [
        "import requests\r\n",
        "from bs4 import BeautifulSoup\r\n",
        "\r\n",
        "# 특정 URL에 접속하는 요청(Request) 객체를 생성합니다.\r\n",
        "request = requests.get(\"http://dowellcomputer.com/main.jsp\")\r\n",
        "\r\n",
        "# 접속한 이후의 웹 사이트 소스코드를 추출합니다.\r\n",
        "html = request.text\r\n",
        "\r\n",
        "# HTML 소스코드를 파이썬 객체로 변환합니다.\r\n",
        "soup = BeautifulSoup(html, \"html.parser\")\r\n",
        "\r\n",
        "# <a> 태그를 포함하는 요소를 추출합니다.\r\n",
        "links = soup.select(\"td > a\")\r\n",
        "\r\n",
        "# 모든 링크에 하나씩 접근합니다.\r\n",
        "for link in links:\r\n",
        "    # 링크가 href 속성을 가지고 있다면\r\n",
        "    if link.has_attr(\"href\"):\r\n",
        "        # href 속성을 값으로 notice라는 문자열이 포함되어 있다면\r\n",
        "        if link.get(\"href\").find(\"notice\") != -1:\r\n",
        "            print(link.text)\r\n"
      ],
      "execution_count": 1,
      "outputs": [
        {
          "output_type": "stream",
          "text": [
            "자바 기초 프로그래밍 강좌를 완강했습니다.\n",
            "컴잘알에 오신 것을 환영합니다.\n"
          ],
          "name": "stdout"
        }
      ]
    },
    {
      "cell_type": "code",
      "metadata": {
        "colab": {
          "base_uri": "https://localhost:8080/"
        },
        "id": "msnNIFmZaRiK",
        "outputId": "ede4b35a-46f9-4cd1-baa5-e4d2d57792de"
      },
      "source": [
        "import requests\r\n",
        "from bs4 import BeautifulSoup\r\n",
        "\r\n",
        "# 모든 영어 대화 주제를 추출하는 함수입니다.\r\n",
        "def get_subjects():\r\n",
        "    subjects = []\r\n",
        "    \r\n",
        "    # 전체 주제 목록을 보여주는 페이지로의 요청(Request) 객체를 생성합니다.\r\n",
        "    req = requests.get(\"https://basicenglishspeaking.com/daily-english-conversation-topics/\")\r\n",
        "    html = req.text\r\n",
        "    soup = BeautifulSoup(html, 'html.parser')\r\n",
        "    \r\n",
        "    divs = soup.findAll('div', {\"class\": \"tcb-flex-row tcb--cols--3\"})\r\n",
        "    for div in divs:\r\n",
        "        # 내부에 존재하는 <a> 태그들을 추출합니다.\r\n",
        "        links = div.findAll('a')\r\n",
        "        \r\n",
        "        # <a>태그 내부의 텍스트를 리스트에 삽입합니다.\r\n",
        "        for link in links:\r\n",
        "            subject = link.text\r\n",
        "            subjects.append(subject)\r\n",
        "            \r\n",
        "    return subjects\r\n",
        "    \r\n",
        "subjects = get_subjects()\r\n",
        "print('총' , len(subjects), \"개의 주제를 찾았습니다.\")\r\n",
        "print(subjects)"
      ],
      "execution_count": 2,
      "outputs": [
        {
          "output_type": "stream",
          "text": [
            "총 75 개의 주제를 찾았습니다.\n",
            "['Family', 'Restaurant', 'Books', 'Travel', 'Website', 'Accident', 'Childhood memory', 'Favorite rooms', 'Presents', 'Historical place', 'Newspaper/ Magazine', 'A memorable event', 'A favorite subject', 'A museum', 'A favorite movie', 'A foreign country', 'Parties', 'A teacher', 'A friend', 'A hotel', 'A letter', 'Hobbies', 'Music', 'Shopping', 'Holiday', 'Animals', 'A practical skill', 'Sport', 'A School', 'Festival', 'Food', 'Household appliance', 'A music band', 'Weather', 'Neighbor', 'Natural scenery', 'Outdoor activities', 'Law', 'Pollution', 'Traffic jam', 'TV program', 'Architect/ Building', 'Electronic Media', 'Job/ Career', 'Competition/ contest', 'A garden', 'Hometown', 'Clothing', 'Advertisement', 'A project', 'A wedding', 'A Coffee shop', 'Culture', 'Transport', 'Politician', 'Communication', 'Business', 'Computer', 'Exercise', 'Goal/ ambition', 'Art', 'Fashion', 'Jewelry', 'Cosmetic', 'Indoor Game', 'Phone conversation', 'Learning A Second language', 'A\\xa0Creative Person', 'A celebrity', 'A Health Problem', 'Technological advancements', 'A Landmark', 'Handcraft Items', 'Plastic Surgery', 'Success']\n"
          ],
          "name": "stdout"
        }
      ]
    }
  ]
}